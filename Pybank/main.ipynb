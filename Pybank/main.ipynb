{
 "cells": [
  {
   "cell_type": "code",
   "execution_count": 1,
   "id": "f17bc645-e2c0-44a3-9f67-ed8143809c72",
   "metadata": {},
   "outputs": [],
   "source": [
    "import csv\n",
    "\n",
    "# Define the path to the CSV file and the output TXT file\n",
    "csv_file_path = 'budget_data.csv'\n",
    "output_file_path = 'budget_analysis.txt'"
   ]
  },
  {
   "cell_type": "code",
   "execution_count": 2,
   "id": "25168866-db74-4cf7-b525-ff5b2f1b781a",
   "metadata": {},
   "outputs": [],
   "source": [
    "# Initialize variables\n",
    "total_months = 0\n",
    "total_amount = 0\n",
    "previous_amount = None\n",
    "monthly_change = []\n",
    "greatest_increase = ['', 0]\n",
    "greatest_decrease = ['', 0]"
   ]
  },
  {
   "cell_type": "code",
   "execution_count": 3,
   "id": "b31ef34d-6f71-4be5-8c09-50039755d78f",
   "metadata": {},
   "outputs": [],
   "source": [
    "# Read data from the CSV file\n",
    "with open(csv_file_path, 'r') as csvfile:\n",
    "    csvreader = csv.reader(csvfile)\n",
    "    header = next(csvreader)  # Skip the header row"
   ]
  },
  {
   "cell_type": "code",
   "execution_count": 4,
   "id": "69acebaf-38e1-485a-a4a3-32185ae2dbf4",
   "metadata": {},
   "outputs": [],
   "source": [
    "# Read data from the CSV file\n",
    "with open(csv_file_path, 'r') as csvfile:\n",
    "    csvreader = csv.reader(csvfile)\n",
    "    header = next(csvreader)  # Skip the header row\n",
    "\n",
    "    # Process each row in the CSV file\n",
    "    for row in csvreader:\n",
    "        # Increment the total number of months\n",
    "        total_months += 1\n",
    "\n",
    "        # Add the amount to the total\n",
    "        total_amount += int(row[1])\n",
    "   # Calculate the monthly change\n",
    "        if previous_amount is not None:\n",
    "            change = int(row[1]) - previous_amount\n",
    "            monthly_change.append(change)\n",
    "\n",
    "            # Check for the greatest increase in profits\n",
    "            if change > greatest_increase[1]:\n",
    "                greatest_increase = [row[0], change]\n",
    "                \n",
    "            # Check for greatest decrease in losses\n",
    "            if change < greatest_decrease[1]:\n",
    "                greatest_decrease = [row[0], change]\n",
    "\n",
    "        # Update the previous amount\n",
    "        previous_amount = int(row[1])\n",
    "\n",
    "# Calculate the average change\n",
    "average_change = sum(monthly_change) / len(monthly_change)"
   ]
  },
  {
   "cell_type": "code",
   "execution_count": 8,
   "id": "8e9442b7-26b4-44e4-a2c4-dc51e25fb6ff",
   "metadata": {},
   "outputs": [],
   "source": [
    "# Generate the output\n",
    "output = (\n",
    "    f\"Financial Analysis\\n\"\n",
    "    f\"----------------------------\\n\"\n",
    "    f\"Total Months: {total_months}\\n\"\n",
    "    f\"Total: ${total_amount}\\n\"\n",
    "    f\"Average Change: ${average_change:.2f}\\n\"\n",
    "    f\"Greatest Increase in Profits: {greatest_increase[0]} (${greatest_increase[1]})\\n\"\n",
    "    f\"Greatest Decrease in Profits: {greatest_decrease[0]} (${greatest_decrease[1]})\\n\"\n",
    ")\n"
   ]
  },
  {
   "cell_type": "code",
   "execution_count": 9,
   "id": "12094718-396a-4d40-a09e-35118ceb156d",
   "metadata": {},
   "outputs": [],
   "source": [
    "# Write the output to the TXT file\n",
    "with open(output_file_path, 'w') as txtfile:\n",
    "    txtfile.write(output)"
   ]
  },
  {
   "cell_type": "code",
   "execution_count": null,
   "id": "b32f79cb-cb96-4a80-857b-db3187ad9a80",
   "metadata": {},
   "outputs": [],
   "source": []
  }
 ],
 "metadata": {
  "kernelspec": {
   "display_name": "Python 3 (ipykernel)",
   "language": "python",
   "name": "python3"
  },
  "language_info": {
   "codemirror_mode": {
    "name": "ipython",
    "version": 3
   },
   "file_extension": ".py",
   "mimetype": "text/x-python",
   "name": "python",
   "nbconvert_exporter": "python",
   "pygments_lexer": "ipython3",
   "version": "3.11.7"
  }
 },
 "nbformat": 4,
 "nbformat_minor": 5
}
